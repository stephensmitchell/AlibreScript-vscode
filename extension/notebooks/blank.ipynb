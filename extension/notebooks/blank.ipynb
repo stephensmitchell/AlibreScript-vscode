{
  "cells": [
    {
      "cell_type": "markdown",
      "metadata": {},
      "source": [
        "# AlibreScript Notebook\n",
        "\n",
        "Start coding here!"
      ]
    },
    {
      "cell_type": "code",
      "execution_count": null,
      "metadata": {},
      "outputs": [],
      "source": []
    }
  ],
  "metadata": {
    "kernelspec": {
      "display_name": "Python 2",
      "language": "python",
      "name": "python2"
    },
    "language_info": {
      "name": "python",
      "version": "2.7"
    }
  },
  "nbformat": 4,
  "nbformat_minor": 4
}