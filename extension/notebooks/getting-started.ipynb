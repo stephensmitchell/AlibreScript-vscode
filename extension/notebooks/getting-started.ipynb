{
  "cells": [
    {
      "cell_type": "markdown",
      "metadata": {},
      "source": [
        "# Getting Started with AlibreScript\n",
        "\n",
        "This notebook introduces the basics of AlibreScript API.\n",
        "\n",
        "**Note:** This notebook is for learning purposes. To run scripts in Alibre, copy the code to a .py file."
      ]
    },
    {
      "cell_type": "markdown",
      "metadata": {},
      "source": [
        "## Creating a Part\n",
        "\n",
        "Every AlibreScript starts by creating or opening a part:"
      ]
    },
    {
      "cell_type": "code",
      "execution_count": null,
      "metadata": {},
      "outputs": [],
      "source": [
        "# Create a new part\n",
        "MyPart = Part('Getting Started Part')\n",
        "print 'Part created!'"
      ]
    },
    {
      "cell_type": "markdown",
      "metadata": {},
      "source": [
        "## Adding a Sketch\n",
        "\n",
        "Sketches are the foundation of most features:"
      ]
    },
    {
      "cell_type": "code",
      "execution_count": null,
      "metadata": {},
      "outputs": [],
      "source": [
        "# Add a sketch on the XY plane\n",
        "sketch = MyPart.AddSketch('First Sketch', MyPart.XYPlane)\n",
        "\n",
        "# Add a rectangle\n",
        "sketch.AddRectangle(0, 0, 50, 30, False)\n",
        "\n",
        "print 'Sketch created with rectangle!'"
      ]
    },
    {
      "cell_type": "markdown",
      "metadata": {},
      "source": [
        "## Creating Features\n",
        "\n",
        "Use sketches to create 3D features:"
      ]
    },
    {
      "cell_type": "code",
      "execution_count": null,
      "metadata": {},
      "outputs": [],
      "source": [
        "# Extrude the sketch\n",
        "MyPart.AddExtrudeBoss('Main Body', sketch, 10, False)\n",
        "\n",
        "print 'Feature created!'"
      ]
    },
    {
      "cell_type": "markdown",
      "metadata": {},
      "source": [
        "## Next Steps\n",
        "\n",
        "Try the other notebooks:\n",
        "- Part Creation - More part operations\n",
        "- Sketch Tutorial - Advanced sketching\n",
        "- Advanced Features - Lofts, sweeps, and more"
      ]
    }
  ],
  "metadata": {
    "kernelspec": {
      "display_name": "Python 2",
      "language": "python",
      "name": "python2"
    },
    "language_info": {
      "name": "python",
      "version": "2.7"
    }
  },
  "nbformat": 4,
  "nbformat_minor": 4
}